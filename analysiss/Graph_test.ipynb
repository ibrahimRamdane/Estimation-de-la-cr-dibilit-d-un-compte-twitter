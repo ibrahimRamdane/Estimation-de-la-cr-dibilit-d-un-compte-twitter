{
 "cells": [
  {
   "cell_type": "code",
   "execution_count": 7,
   "metadata": {},
   "outputs": [],
   "source": [
    "from dash import Dash, html, dcc\n",
    "import plotly.express as px\n",
    "import pandas as pd\n",
    "\n",
    "tab = pd.DataFrame({\n",
    "    \"Tweet\": [\"Apples\", \"Oranges\", \"Bananas\", \"Apples\", \"Oranges\", \"Bananas\"],\n",
    "    \"crédibilité du tweet\": [1, 1, 0, 0, 1, 1]})\n",
    "\n",
    "def fig_cred(tab):\n",
    "    \"\"\"\n",
    "    Cette fonction prend en argument une dataFrame qui\n",
    "    recense 100 tweets d'un utilisateur et leur crédibilité \n",
    "    retourne un figure pyplot représentant la proportion de\n",
    "    tweets crédible d'un utilisateur\n",
    "    \"\"\"\n",
    "    cred=list(tab.values[:,1])\n",
    "    nb_cred=[len([v for v in cred if v]), len([v for v in cred if not v])]      # nb tweet credible, nb weet pas credible \n",
    "    names_part=['Crédible', 'Pas crédible']\n",
    "\n",
    "    fig = px.pie(values=nb_cred, names=names_part,color=names_part,color_discrete_map={'Crédible':'Green', 'Pas crédible':'Red'})\n",
    "    return fig\n"
   ]
  },
  {
   "cell_type": "code",
   "execution_count": null,
   "metadata": {},
   "outputs": [],
   "source": [
    "\n",
    "df = pd.DataFrame({\n",
    "    \"Sentiment\": [\"Positif\", \"Neutre\", \"Négatif\", \"Positif\", \"Neutre\", \"Négatif\"],\n",
    "    \"nb_tweet\": [len([i for i in range(len(cred)) if cred[i] and sent[i]>0.35]), \n",
    "                 len([i for i in range(len(cred)) if cred[i] and -0.35<sent[i]<0.35]), \n",
    "                 len([i for i in range(len(cred)) if cred[i] and sent[i]<-0.35]), \n",
    "                 len([i for i in range(len(cred)) if not cred[i] and sent[i]>0.35]), \n",
    "                 len([i for i in range(len(cred)) if not cred[i] and -0.35<sent[i]<0.35]), \n",
    "                 len([i for i in range(len(cred)) if not cred[i] and sent[i]<-0.35])],\n",
    "    \"Credibility\": [\"Credible\", \"Credible\", \"Credible\", \"Pas Credible\", \"Pas Credible\", \"Pas Credible\"]\n",
    "})\n",
    "\n",
    "#1=credible et 0=pas credible\n",
    "cred=list(tab.values[:,1])\n",
    "sent=list(tab.values[:,2])\n",
    "\n",
    "fig = px.bar(df, x=\"Sentiment\", y=\"nb_tweet\", color=\"Credibility\", barmode=\"group\")\n",
    "fig.show()\n",
    "\n"
   ]
  }
 ],
 "metadata": {
  "kernelspec": {
   "display_name": "Python 3.10.7 64-bit",
   "language": "python",
   "name": "python3"
  },
  "language_info": {
   "codemirror_mode": {
    "name": "ipython",
    "version": 3
   },
   "file_extension": ".py",
   "mimetype": "text/x-python",
   "name": "python",
   "nbconvert_exporter": "python",
   "pygments_lexer": "ipython3",
   "version": "3.10.7"
  },
  "orig_nbformat": 4,
  "vscode": {
   "interpreter": {
    "hash": "369f2c481f4da34e4445cda3fffd2e751bd1c4d706f27375911949ba6bb62e1c"
   }
  }
 },
 "nbformat": 4,
 "nbformat_minor": 2
}
